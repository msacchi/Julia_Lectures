{
 "cells": [
  {
   "cell_type": "code",
   "execution_count": 16,
   "metadata": {},
   "outputs": [
    {
     "data": {
      "text/plain": [
       "wave_2 (generic function with 4 methods)"
      ]
     },
     "execution_count": 16,
     "metadata": {},
     "output_type": "execute_result"
    }
   ],
   "source": [
    "using BenchmarkTools\n",
    "\n",
    "\n",
    "function wave_1(f0,dt,alpha,N)\n",
    "    t = collect(0:1:N-1)*dt\n",
    "    w = sin.(2*pi*t*f0).*exp.(-alpha*t)\n",
    "    return t,w\n",
    "end\n",
    "\n",
    "function wave_2(f0::Float64,dt::Float64,alpha::Float64,N::Int)\n",
    "    t = collect(0:1:N-1)*dt\n",
    "    w = sin.(2*pi*t*f0).*exp.(-alpha*t)\n",
    "    return t,w\n",
    "end\n"
   ]
  },
  {
   "cell_type": "code",
   "execution_count": 29,
   "metadata": {},
   "outputs": [
    {
     "data": {
      "text/plain": [
       "volume_4 (generic function with 1 method)"
      ]
     },
     "execution_count": 29,
     "metadata": {},
     "output_type": "execute_result"
    }
   ],
   "source": [
    "function volume_1(l,w,h)\n",
    "    return l*w*h\n",
    "end\n",
    "\n",
    "function volume_2(l::Float64,w::Float64,h::Float64)\n",
    "    return l*w*h\n",
    "end\n",
    "\n",
    "function volume_3(l::Real,w::Real,h::Real)\n",
    "    return l*w*h\n",
    "end\n",
    "\n",
    "\n",
    "function volume_4(l::T,w::T,h::T) where {T<:AbstractFloat}\n",
    "    return l*w*h\n",
    "end"
   ]
  },
  {
   "cell_type": "code",
   "execution_count": 70,
   "metadata": {},
   "outputs": [
    {
     "name": "stdout",
     "output_type": "stream",
     "text": [
      "  0.001593 seconds (68.98 k allocations: 1.205 MiB)\n",
      "  0.001605 seconds (68.98 k allocations: 1.205 MiB)\n",
      "  0.001586 seconds (68.98 k allocations: 1.205 MiB)\n",
      "  0.001620 seconds (68.98 k allocations: 1.205 MiB)\n"
     ]
    }
   ],
   "source": [
    "l=10.0;w=10.0;h=20.0\n",
    "P =(l,w,h)\n",
    "N = 10000\n",
    "@time for k=1:N; volume_1(P...); end\n",
    "\n",
    "@time for k=1:N; volume_2(P...); end\n",
    "\n",
    "@time for k=1:N; volume_3(P...); end\n",
    "\n",
    "@time for k=1:N; volume_4(P...); end"
   ]
  },
  {
   "cell_type": "code",
   "execution_count": null,
   "metadata": {},
   "outputs": [],
   "source": [
    "\n"
   ]
  }
 ],
 "metadata": {
  "kernelspec": {
   "display_name": "Julia 1.9.1",
   "language": "julia",
   "name": "julia-1.9"
  },
  "language_info": {
   "file_extension": ".jl",
   "mimetype": "application/julia",
   "name": "julia",
   "version": "1.9.1"
  },
  "orig_nbformat": 4
 },
 "nbformat": 4,
 "nbformat_minor": 2
}
